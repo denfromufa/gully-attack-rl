{
 "cells": [
  {
   "cell_type": "code",
   "execution_count": 2,
   "metadata": {
    "scrolled": true
   },
   "outputs": [
    {
     "name": "stdout",
     "output_type": "stream",
     "text": [
      "../../Parihaka/labels\n",
      "../../Parihaka/png\n"
     ]
    }
   ],
   "source": [
    "from os import path\n",
    "import numpy as np\n",
    "from scipy import misc\n",
    "import matplotlib.pyplot as plt\n",
    "%matplotlib inline\n",
    "\n",
    "DATA_PATH=path.join('..','..','Parihaka')\n",
    "\n",
    "LABEL_PATH=path.join(DATA_PATH, 'labels')\n",
    "SEISMIC_PATH=path.join(DATA_PATH, 'png')\n",
    "OUTPUT_PATH=path.join('..','images')\n",
    "\n",
    "print(LABEL_PATH)\n",
    "print(SEISMIC_PATH)"
   ]
  },
  {
   "cell_type": "code",
   "execution_count": 3,
   "metadata": {},
   "outputs": [],
   "source": [
    "inlines = [2300]\n",
    "xlines = list(range(4580, 5000, 10)) + list(range(5200, 5260, 10))"
   ]
  },
  {
   "cell_type": "code",
   "execution_count": 4,
   "metadata": {
    "scrolled": false
   },
   "outputs": [],
   "source": [
    "def resample(X, size_out):\n",
    "    size_in = X.shape\n",
    "    Y = np.zeros(size_out)\n",
    "    for i in range(size_out[0]):\n",
    "        for j in range(size_out[1]):\n",
    "            I = int(size_in[0] * i / size_out[0])\n",
    "            J = int(size_in[1] * j / size_out[1])\n",
    "            Y[i,j,:] = X[I,J,:]\n",
    "    return Y"
   ]
  },
  {
   "cell_type": "code",
   "execution_count": 19,
   "metadata": {},
   "outputs": [
    {
     "name": "stdout",
     "output_type": "stream",
     "text": [
      "(438, 438, 4)\n",
      "../../Parihaka/labels/resampled_grey_xl5200_segmentation.png\n",
      "(438, 438, 4)\n",
      "../../Parihaka/labels/resampled_grey_xl5210_segmentation.png\n",
      "(438, 438, 4)\n",
      "../../Parihaka/labels/resampled_grey_xl5220_segmentation.png\n",
      "(438, 438, 4)\n",
      "../../Parihaka/labels/resampled_grey_xl5230_segmentation.png\n",
      "(438, 438, 4)\n",
      "../../Parihaka/labels/resampled_grey_xl5240_segmentation.png\n",
      "(438, 438, 4)\n",
      "../../Parihaka/labels/resampled_grey_xl5250_segmentation.png\n"
     ]
    }
   ],
   "source": [
    "label_names = ['resampled_recol_grey_xl{}_segmentation.png'.format(xl) for xl in xlines]\n",
    "\n",
    "target_size = (351,351,4)\n",
    "\n",
    "color_mapping = [\n",
    "    ((0,0,255),(0,0,232)),\n",
    "    ((0,255,0),(250,170,30)),\n",
    "    ((0,255,255),(152,251,152)),\n",
    "    ((255,0,255),(207,207,207))\n",
    "]\n",
    "\n",
    "for name in label_names:\n",
    "    img = misc.imread(path.abspath(path.join(LABEL_PATH, name)))\n",
    "    \n",
    "    \n",
    "    \n",
    "    outimg = resample(img, target_size)\n",
    "    outname = path.join(LABEL_PATH, 'resampled_'+name)\n",
    "    print(outname)\n",
    "    misc.imsave(path.join(LABEL_PATH, 'resampled_'+name), outimg)\n",
    "    "
   ]
  },
  {
   "cell_type": "code",
   "execution_count": null,
   "metadata": {},
   "outputs": [],
   "source": []
  },
  {
   "cell_type": "code",
   "execution_count": null,
   "metadata": {},
   "outputs": [],
   "source": []
  },
  {
   "cell_type": "code",
   "execution_count": null,
   "metadata": {},
   "outputs": [],
   "source": []
  }
 ],
 "metadata": {
  "anaconda-cloud": {},
  "kernelspec": {
   "display_name": "Python [default]",
   "language": "python",
   "name": "python3"
  },
  "language_info": {
   "codemirror_mode": {
    "name": "ipython",
    "version": 3
   },
   "file_extension": ".py",
   "mimetype": "text/x-python",
   "name": "python",
   "nbconvert_exporter": "python",
   "pygments_lexer": "ipython3",
   "version": "3.5.2"
  }
 },
 "nbformat": 4,
 "nbformat_minor": 2
}
