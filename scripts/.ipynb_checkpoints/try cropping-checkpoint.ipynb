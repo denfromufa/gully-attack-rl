{
 "cells": [
  {
   "cell_type": "code",
   "execution_count": 65,
   "metadata": {},
   "outputs": [
    {
     "name": "stdout",
     "output_type": "stream",
     "text": [
      "../../Parihaka/labels\n",
      "../../Parihaka/png\n"
     ]
    }
   ],
   "source": [
    "from os import path\n",
    "import numpy as np\n",
    "from scipy import misc\n",
    "import matplotlib.pyplot as plt\n",
    "%matplotlib inline\n",
    "\n",
    "DATA_PATH=path.join('..','..','Parihaka')\n",
    "\n",
    "LABEL_PATH=path.join(DATA_PATH, 'labels')\n",
    "SEISMIC_PATH=path.join(DATA_PATH, 'png')\n",
    "OUTPUT_PATH=path.join('..', 'images')\n",
    "\n",
    "print(LABEL_PATH)\n",
    "print(SEISMIC_PATH)"
   ]
  },
  {
   "cell_type": "code",
   "execution_count": 66,
   "metadata": {},
   "outputs": [],
   "source": [
    "inlines = [2300]"
   ]
  },
  {
   "cell_type": "code",
   "execution_count": 67,
   "metadata": {
    "scrolled": false
   },
   "outputs": [
    {
     "name": "stdout",
     "output_type": "stream",
     "text": [
      "(256, 256)\n",
      "(256, 256, 4)\n",
      "(256, 256)\n"
     ]
    },
    {
     "data": {
      "image/png": "[encoded data removed]",
      "text/plain": [
       "<Figure size 720x720 with 1 Axes>"
      ]
     },
     "metadata": {},
     "output_type": "display_data"
    }
   ],
   "source": [
    "label_names = ['grey_il{}_segmentation.png'.format(il) for il in inlines]\n",
    "rgb_names = ['rgb_il{}.png'.format(il) for il in inlines]\n",
    "grey_names = ['grey_il{}.png'.format(il) for il in inlines]\n",
    "\n",
    "plt.figure(figsize=(10,10))\n",
    "\n",
    "gully_rgb_val = (250, 170, 30)\n",
    "\n",
    "def crop_at(img, x,y):\n",
    "    return img[y:y+256,x:x+256]\n",
    "\n",
    "for g_name, rgb_name, l_name in zip(grey_names, rgb_names, label_names):\n",
    "    l_image = misc.imread(path.abspath(path.join(LABEL_PATH, l_name)))    \n",
    "    g_image = misc.imread(path.abspath(path.join(SEISMIC_PATH, g_name)))\n",
    "    rgb_image = misc.imread(path.abspath(path.join(SEISMIC_PATH, rgb_name)))\n",
    "    \n",
    "    y=50\n",
    "    x=250\n",
    "    l_crop = crop_at(l_image, x, y)\n",
    "    grey_label_crop = np.zeros_like(l_crop[:,:,0])\n",
    "    for i in range(l_crop.shape[0]):\n",
    "        for j in range(l_crop.shape[1]):\n",
    "            if np.all(l_crop[i,j,0:3] == gully_rgb_val):\n",
    "                grey_label_crop[i,j] = 255\n",
    "    \n",
    "    \n",
    "    grey_crop = crop_at(g_image, x, y)\n",
    "    rgb_crop = crop_at(rgb_image, x, y)\n",
    "    print(grey_crop.shape)\n",
    "    print(rgb_crop.shape)\n",
    "    print(grey_label_crop.shape)\n",
    "    \n",
    "    misc.imsave(path.join(OUTPUT_PATH, 'grey_il2300.crop.png'), grey_crop)\n",
    "    misc.imsave(path.join(OUTPUT_PATH, 'grey_label_il2300.crop.png'), grey_label_crop)\n",
    "    misc.imsave(path.join(OUTPUT_PATH, 'rgb_il2300.crop.png'), rgb_crop)    \n",
    "    \n",
    "    plt.imshow(grey_label_crop)\n",
    "    "
   ]
  },
  {
   "cell_type": "code",
   "execution_count": 8,
   "metadata": {},
   "outputs": [],
   "source": []
  },
  {
   "cell_type": "code",
   "execution_count": null,
   "metadata": {},
   "outputs": [],
   "source": []
  },
  {
   "cell_type": "code",
   "execution_count": null,
   "metadata": {},
   "outputs": [],
   "source": []
  }
 ],
 "metadata": {
  "anaconda-cloud": {},
  "kernelspec": {
   "display_name": "Python [default]",
   "language": "python",
   "name": "python3"
  },
  "language_info": {
   "codemirror_mode": {
    "name": "ipython",
    "version": 3
   },
   "file_extension": ".py",
   "mimetype": "text/x-python",
   "name": "python",
   "nbconvert_exporter": "python",
   "pygments_lexer": "ipython3",
   "version": "3.5.2"
  }
 },
 "nbformat": 4,
 "nbformat_minor": 2
}
